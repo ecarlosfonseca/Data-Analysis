{
 "cells": [
  {
   "cell_type": "code",
   "execution_count": 1,
   "metadata": {
    "ExecuteTime": {
     "end_time": "2020-08-25T17:36:25.609556Z",
     "start_time": "2020-08-25T17:35:55.540578Z"
    }
   },
   "outputs": [],
   "source": [
    "import pandas as pd\n",
    "from datetime import datetime\n",
    "\n",
    "# Viz libraries\n",
    "import matplotlib.pyplot as plt\n",
    "import seaborn as sns\n",
    "\n",
    "# Sklearn libraries\n",
    "from sklearn.pipeline import Pipeline\n",
    "from sklearn.model_selection import train_test_split\n",
    "from sklearn.impute import SimpleImputer\n",
    "from sklearn.ensemble import RandomForestClassifier\n",
    "from sklearn.metrics import confusion_matrix,roc_auc_score,roc_curve,classification_report,auc\n",
    "from sklearn.base import BaseEstimator, TransformerMixin # to create classes\n",
    "\n",
    "# Category encoders\n",
    "from category_encoders import OneHotEncoder, TargetEncoder"
   ]
  },
  {
   "cell_type": "code",
   "execution_count": 2,
   "metadata": {
    "ExecuteTime": {
     "end_time": "2020-08-25T17:36:25.827651Z",
     "start_time": "2020-08-25T17:36:25.619557Z"
    }
   },
   "outputs": [
    {
     "name": "stdout",
     "output_type": "stream",
     "text": [
      "total 62M\n",
      "-rw-r--r-- 1 ZukiPC 197609 2,3M ago 12 14:41 sample_submission.csv\n",
      "-rw-r--r-- 1 ZukiPC 197609 7,8M ago 12 14:41 test.csv\n",
      "-rw-r--r-- 1 ZukiPC 197609  52M ago 12 14:41 train.csv\n"
     ]
    }
   ],
   "source": [
    "!ls -lh data"
   ]
  },
  {
   "cell_type": "code",
   "execution_count": 3,
   "metadata": {
    "ExecuteTime": {
     "end_time": "2020-08-25T17:36:28.134658Z",
     "start_time": "2020-08-25T17:36:25.831648Z"
    },
    "scrolled": false
   },
   "outputs": [
    {
     "data": {
      "text/html": [
       "<div>\n",
       "<style scoped>\n",
       "    .dataframe tbody tr th:only-of-type {\n",
       "        vertical-align: middle;\n",
       "    }\n",
       "\n",
       "    .dataframe tbody tr th {\n",
       "        vertical-align: top;\n",
       "    }\n",
       "\n",
       "    .dataframe thead th {\n",
       "        text-align: right;\n",
       "    }\n",
       "</style>\n",
       "<table border=\"1\" class=\"dataframe\">\n",
       "  <thead>\n",
       "    <tr style=\"text-align: right;\">\n",
       "      <th></th>\n",
       "      <th>timestamp</th>\n",
       "      <th>product_id</th>\n",
       "      <th>product_department</th>\n",
       "      <th>product_category</th>\n",
       "      <th>card_id</th>\n",
       "      <th>user_id</th>\n",
       "      <th>C15</th>\n",
       "      <th>C16</th>\n",
       "      <th>C17</th>\n",
       "      <th>C18</th>\n",
       "      <th>C19</th>\n",
       "      <th>C20</th>\n",
       "      <th>C21</th>\n",
       "      <th>amount</th>\n",
       "      <th>isfraud</th>\n",
       "    </tr>\n",
       "    <tr>\n",
       "      <th>id</th>\n",
       "      <th></th>\n",
       "      <th></th>\n",
       "      <th></th>\n",
       "      <th></th>\n",
       "      <th></th>\n",
       "      <th></th>\n",
       "      <th></th>\n",
       "      <th></th>\n",
       "      <th></th>\n",
       "      <th></th>\n",
       "      <th></th>\n",
       "      <th></th>\n",
       "      <th></th>\n",
       "      <th></th>\n",
       "      <th></th>\n",
       "    </tr>\n",
       "  </thead>\n",
       "  <tbody>\n",
       "    <tr>\n",
       "      <th>202</th>\n",
       "      <td>1413851368636</td>\n",
       "      <td>fa41b2d8</td>\n",
       "      <td>ef5ed6b8</td>\n",
       "      <td>50e219e0</td>\n",
       "      <td>ecad2386</td>\n",
       "      <td>bd544220</td>\n",
       "      <td>300</td>\n",
       "      <td>50</td>\n",
       "      <td>2312</td>\n",
       "      <td>0</td>\n",
       "      <td>167</td>\n",
       "      <td>100075</td>\n",
       "      <td>16</td>\n",
       "      <td>195.65</td>\n",
       "      <td>0</td>\n",
       "    </tr>\n",
       "    <tr>\n",
       "      <th>9909</th>\n",
       "      <td>1413851725946</td>\n",
       "      <td>fa41b2d8</td>\n",
       "      <td>ef5ed6b8</td>\n",
       "      <td>50e219e0</td>\n",
       "      <td>ecad2386</td>\n",
       "      <td>bd544220</td>\n",
       "      <td>300</td>\n",
       "      <td>50</td>\n",
       "      <td>2312</td>\n",
       "      <td>0</td>\n",
       "      <td>167</td>\n",
       "      <td>100075</td>\n",
       "      <td>16</td>\n",
       "      <td>195.65</td>\n",
       "      <td>0</td>\n",
       "    </tr>\n",
       "    <tr>\n",
       "      <th>22692</th>\n",
       "      <td>1413851873924</td>\n",
       "      <td>fa41b2d8</td>\n",
       "      <td>ef5ed6b8</td>\n",
       "      <td>50e219e0</td>\n",
       "      <td>ecad2386</td>\n",
       "      <td>bd544220</td>\n",
       "      <td>300</td>\n",
       "      <td>50</td>\n",
       "      <td>2312</td>\n",
       "      <td>0</td>\n",
       "      <td>167</td>\n",
       "      <td>100075</td>\n",
       "      <td>16</td>\n",
       "      <td>195.65</td>\n",
       "      <td>0</td>\n",
       "    </tr>\n",
       "    <tr>\n",
       "      <th>22938</th>\n",
       "      <td>1413851651534</td>\n",
       "      <td>fa41b2d8</td>\n",
       "      <td>ef5ed6b8</td>\n",
       "      <td>50e219e0</td>\n",
       "      <td>ecad2386</td>\n",
       "      <td>bd544220</td>\n",
       "      <td>300</td>\n",
       "      <td>50</td>\n",
       "      <td>2312</td>\n",
       "      <td>0</td>\n",
       "      <td>167</td>\n",
       "      <td>100075</td>\n",
       "      <td>16</td>\n",
       "      <td>195.65</td>\n",
       "      <td>0</td>\n",
       "    </tr>\n",
       "    <tr>\n",
       "      <th>29187</th>\n",
       "      <td>1413853025188</td>\n",
       "      <td>fa41b2d8</td>\n",
       "      <td>ef5ed6b8</td>\n",
       "      <td>50e219e0</td>\n",
       "      <td>ecad2386</td>\n",
       "      <td>bd544220</td>\n",
       "      <td>300</td>\n",
       "      <td>50</td>\n",
       "      <td>2312</td>\n",
       "      <td>0</td>\n",
       "      <td>167</td>\n",
       "      <td>100075</td>\n",
       "      <td>16</td>\n",
       "      <td>195.65</td>\n",
       "      <td>0</td>\n",
       "    </tr>\n",
       "  </tbody>\n",
       "</table>\n",
       "</div>"
      ],
      "text/plain": [
       "           timestamp product_id product_department product_category   card_id  \\\n",
       "id                                                                              \n",
       "202    1413851368636   fa41b2d8           ef5ed6b8         50e219e0  ecad2386   \n",
       "9909   1413851725946   fa41b2d8           ef5ed6b8         50e219e0  ecad2386   \n",
       "22692  1413851873924   fa41b2d8           ef5ed6b8         50e219e0  ecad2386   \n",
       "22938  1413851651534   fa41b2d8           ef5ed6b8         50e219e0  ecad2386   \n",
       "29187  1413853025188   fa41b2d8           ef5ed6b8         50e219e0  ecad2386   \n",
       "\n",
       "        user_id  C15  C16   C17  C18  C19     C20  C21  amount  isfraud  \n",
       "id                                                                       \n",
       "202    bd544220  300   50  2312    0  167  100075   16  195.65        0  \n",
       "9909   bd544220  300   50  2312    0  167  100075   16  195.65        0  \n",
       "22692  bd544220  300   50  2312    0  167  100075   16  195.65        0  \n",
       "22938  bd544220  300   50  2312    0  167  100075   16  195.65        0  \n",
       "29187  bd544220  300   50  2312    0  167  100075   16  195.65        0  "
      ]
     },
     "execution_count": 3,
     "metadata": {},
     "output_type": "execute_result"
    }
   ],
   "source": [
    "data = pd.read_csv('data/train.csv').set_index(\"id\")\n",
    "data.head()"
   ]
  },
  {
   "cell_type": "code",
   "execution_count": 4,
   "metadata": {
    "ExecuteTime": {
     "end_time": "2020-08-25T17:36:28.150652Z",
     "start_time": "2020-08-25T17:36:28.138661Z"
    }
   },
   "outputs": [
    {
     "data": {
      "text/plain": [
       "(522412, 15)"
      ]
     },
     "execution_count": 4,
     "metadata": {},
     "output_type": "execute_result"
    }
   ],
   "source": [
    "data.shape"
   ]
  },
  {
   "cell_type": "code",
   "execution_count": 5,
   "metadata": {
    "ExecuteTime": {
     "end_time": "2020-08-25T17:36:28.538492Z",
     "start_time": "2020-08-25T17:36:28.153651Z"
    }
   },
   "outputs": [
    {
     "name": "stdout",
     "output_type": "stream",
     "text": [
      "id,timestamp,product_id,product_department,product_category,card_id,user_id,C15,C16,C17,C18,C19,C20,C21,amount\n",
      "36412270,1414635923767,c4e18dd6,85f751fd,50e219e0,7358e05e,0007ae57,320,50,2647,2,35,100148,23,191.77\n",
      "36444068,1414636094030,c4e18dd6,85f751fd,50e219e0,7358e05e,0007ae57,320,50,2647,2,35,100148,23,191.77\n",
      "37853449,1414662647887,c4e18dd6,85f751fd,50e219e0,7358e05e,0007ae57,320,50,2647,2,39,100148,23,191.77\n",
      "36396815,1414637084496,c4e18dd6,85f751fd,50e219e0,7358e05e,0007ae57,320,50,2647,2,35,100148,23,191.77\n",
      "36432507,1414634763247,c4e18dd6,85f751fd,50e219e0,7358e05e,0007ae57,320,50,2647,2,35,100148,105,191.77\n",
      "38314434,1414670233561,c4e18dd6,85f751fd,50e219e0,7358e05e,0008dcd1,320,50,2741,0,163,-1,17,191.77\n",
      "38317400,1414669531131,c4e18dd6,85f751fd,50e219e0,7358e05e,0008dcd1,320,50,2741,0,163,-1,105,191.77\n",
      "36932920,1414642524061,c4e18dd6,85f751fd,50e219e0,5adb10d9,0011cd85,320,50,2726,3,803,100200,229,191.77\n",
      "36678951,1414644584615,c4e18dd6,85f751fd,50e219e0,5adb10d9,0011cd85,320,50,2726,3,803,100200,229,191.77\n"
     ]
    }
   ],
   "source": [
    "# Check test set variables\n",
    "!head data/test.csv"
   ]
  },
  {
   "cell_type": "markdown",
   "metadata": {},
   "source": [
    "EDA"
   ]
  },
  {
   "cell_type": "code",
   "execution_count": 6,
   "metadata": {
    "ExecuteTime": {
     "end_time": "2020-08-25T17:36:29.821443Z",
     "start_time": "2020-08-25T17:36:28.544482Z"
    },
    "scrolled": true
   },
   "outputs": [
    {
     "data": {
      "text/html": [
       "<div>\n",
       "<style scoped>\n",
       "    .dataframe tbody tr th:only-of-type {\n",
       "        vertical-align: middle;\n",
       "    }\n",
       "\n",
       "    .dataframe tbody tr th {\n",
       "        vertical-align: top;\n",
       "    }\n",
       "\n",
       "    .dataframe thead th {\n",
       "        text-align: right;\n",
       "    }\n",
       "</style>\n",
       "<table border=\"1\" class=\"dataframe\">\n",
       "  <thead>\n",
       "    <tr style=\"text-align: right;\">\n",
       "      <th></th>\n",
       "      <th>variables</th>\n",
       "      <th>count</th>\n",
       "      <th>v_types</th>\n",
       "      <th>n_null</th>\n",
       "      <th>n_uniques</th>\n",
       "    </tr>\n",
       "  </thead>\n",
       "  <tbody>\n",
       "    <tr>\n",
       "      <th>0</th>\n",
       "      <td>timestamp</td>\n",
       "      <td>522412</td>\n",
       "      <td>int64</td>\n",
       "      <td>0</td>\n",
       "      <td>521650</td>\n",
       "    </tr>\n",
       "    <tr>\n",
       "      <th>1</th>\n",
       "      <td>product_id</td>\n",
       "      <td>522412</td>\n",
       "      <td>object</td>\n",
       "      <td>0</td>\n",
       "      <td>1959</td>\n",
       "    </tr>\n",
       "    <tr>\n",
       "      <th>2</th>\n",
       "      <td>product_department</td>\n",
       "      <td>522412</td>\n",
       "      <td>object</td>\n",
       "      <td>0</td>\n",
       "      <td>1251</td>\n",
       "    </tr>\n",
       "    <tr>\n",
       "      <th>3</th>\n",
       "      <td>product_category</td>\n",
       "      <td>522412</td>\n",
       "      <td>object</td>\n",
       "      <td>0</td>\n",
       "      <td>4</td>\n",
       "    </tr>\n",
       "    <tr>\n",
       "      <th>4</th>\n",
       "      <td>card_id</td>\n",
       "      <td>522412</td>\n",
       "      <td>object</td>\n",
       "      <td>0</td>\n",
       "      <td>1668</td>\n",
       "    </tr>\n",
       "    <tr>\n",
       "      <th>5</th>\n",
       "      <td>user_id</td>\n",
       "      <td>522412</td>\n",
       "      <td>object</td>\n",
       "      <td>0</td>\n",
       "      <td>82591</td>\n",
       "    </tr>\n",
       "    <tr>\n",
       "      <th>6</th>\n",
       "      <td>C15</td>\n",
       "      <td>522412</td>\n",
       "      <td>int64</td>\n",
       "      <td>0</td>\n",
       "      <td>8</td>\n",
       "    </tr>\n",
       "    <tr>\n",
       "      <th>7</th>\n",
       "      <td>C16</td>\n",
       "      <td>522412</td>\n",
       "      <td>int64</td>\n",
       "      <td>0</td>\n",
       "      <td>9</td>\n",
       "    </tr>\n",
       "    <tr>\n",
       "      <th>8</th>\n",
       "      <td>C17</td>\n",
       "      <td>522412</td>\n",
       "      <td>int64</td>\n",
       "      <td>0</td>\n",
       "      <td>293</td>\n",
       "    </tr>\n",
       "    <tr>\n",
       "      <th>9</th>\n",
       "      <td>C18</td>\n",
       "      <td>522412</td>\n",
       "      <td>int64</td>\n",
       "      <td>0</td>\n",
       "      <td>4</td>\n",
       "    </tr>\n",
       "    <tr>\n",
       "      <th>10</th>\n",
       "      <td>C19</td>\n",
       "      <td>522412</td>\n",
       "      <td>int64</td>\n",
       "      <td>0</td>\n",
       "      <td>56</td>\n",
       "    </tr>\n",
       "    <tr>\n",
       "      <th>11</th>\n",
       "      <td>C20</td>\n",
       "      <td>522412</td>\n",
       "      <td>int64</td>\n",
       "      <td>0</td>\n",
       "      <td>157</td>\n",
       "    </tr>\n",
       "    <tr>\n",
       "      <th>12</th>\n",
       "      <td>C21</td>\n",
       "      <td>522412</td>\n",
       "      <td>int64</td>\n",
       "      <td>0</td>\n",
       "      <td>50</td>\n",
       "    </tr>\n",
       "    <tr>\n",
       "      <th>13</th>\n",
       "      <td>amount</td>\n",
       "      <td>522412</td>\n",
       "      <td>float64</td>\n",
       "      <td>0</td>\n",
       "      <td>1187</td>\n",
       "    </tr>\n",
       "    <tr>\n",
       "      <th>14</th>\n",
       "      <td>isfraud</td>\n",
       "      <td>522412</td>\n",
       "      <td>int64</td>\n",
       "      <td>0</td>\n",
       "      <td>2</td>\n",
       "    </tr>\n",
       "  </tbody>\n",
       "</table>\n",
       "</div>"
      ],
      "text/plain": [
       "             variables   count  v_types  n_null  n_uniques\n",
       "0            timestamp  522412    int64       0     521650\n",
       "1           product_id  522412   object       0       1959\n",
       "2   product_department  522412   object       0       1251\n",
       "3     product_category  522412   object       0          4\n",
       "4              card_id  522412   object       0       1668\n",
       "5              user_id  522412   object       0      82591\n",
       "6                  C15  522412    int64       0          8\n",
       "7                  C16  522412    int64       0          9\n",
       "8                  C17  522412    int64       0        293\n",
       "9                  C18  522412    int64       0          4\n",
       "10                 C19  522412    int64       0         56\n",
       "11                 C20  522412    int64       0        157\n",
       "12                 C21  522412    int64       0         50\n",
       "13              amount  522412  float64       0       1187\n",
       "14             isfraud  522412    int64       0          2"
      ]
     },
     "execution_count": 6,
     "metadata": {},
     "output_type": "execute_result"
    }
   ],
   "source": [
    "analysis_dict = {'variables': list(data.columns.values),\n",
    "                 'count': list(data.count().values),\n",
    "                 'v_types': list(data.dtypes.values),\n",
    "                 'n_null': list(data.isnull().sum().values),\n",
    "                 'n_uniques': list(data.nunique().values)}\n",
    "analysis = pd.DataFrame(analysis_dict)\n",
    "analysis"
   ]
  },
  {
   "cell_type": "code",
   "execution_count": 7,
   "metadata": {
    "ExecuteTime": {
     "end_time": "2020-08-25T17:36:31.791659Z",
     "start_time": "2020-08-25T17:36:29.825444Z"
    }
   },
   "outputs": [
    {
     "data": {
      "image/png": "[encoded data removed]",
      "text/plain": [
       "<Figure size 864x288 with 2 Axes>"
      ]
     },
     "metadata": {
      "needs_background": "light"
     },
     "output_type": "display_data"
    }
   ],
   "source": [
    "corr_matrix = data.corr()\n",
    "lower_triangle_mask = np.triu(np.ones(corr_matrix.shape)).astype(np.bool)\n",
    "cor_mat_lower = corr_matrix.mask(lower_triangle_mask)\n",
    "\n",
    "plt.figure(figsize = (12,4))\n",
    "\n",
    "sns.heatmap(cor_mat_lower,\n",
    "            annot=True,\n",
    "            cmap='RdBu_r')\n",
    "\n",
    "plt.show()"
   ]
  },
  {
   "cell_type": "code",
   "execution_count": 8,
   "metadata": {
    "ExecuteTime": {
     "end_time": "2020-08-25T17:36:31.806685Z",
     "start_time": "2020-08-25T17:36:31.796652Z"
    }
   },
   "outputs": [],
   "source": [
    "cols_to_drop = ['C19', 'C21']"
   ]
  },
  {
   "cell_type": "code",
   "execution_count": 9,
   "metadata": {
    "ExecuteTime": {
     "end_time": "2020-08-25T17:36:32.474912Z",
     "start_time": "2020-08-25T17:36:31.810662Z"
    }
   },
   "outputs": [
    {
     "data": {
      "image/png": "[encoded data removed]",
      "text/plain": [
       "<Figure size 432x288 with 1 Axes>"
      ]
     },
     "metadata": {},
     "output_type": "display_data"
    }
   ],
   "source": [
    "# Checking if the dataset is imbalanced \n",
    "sns.set_style(\"white\")\n",
    "data[\"isfraud\"].value_counts(normalize=False).plot(kind=\"bar\")\n",
    "plt.title('isfraud Distribution')\n",
    "plt.xlabel(\"Fraudulent Transactions (No=0, Yes=1)\")\n",
    "plt.ylabel(\"Perc. of fraudulent Transactions\");"
   ]
  },
  {
   "cell_type": "code",
   "execution_count": 10,
   "metadata": {
    "ExecuteTime": {
     "end_time": "2020-08-25T17:36:33.720983Z",
     "start_time": "2020-08-25T17:36:32.476875Z"
    },
    "scrolled": true
   },
   "outputs": [
    {
     "data": {
      "image/png": "[encoded data removed]",
      "text/plain": [
       "<Figure size 1440x360 with 4 Axes>"
      ]
     },
     "metadata": {},
     "output_type": "display_data"
    }
   ],
   "source": [
    "# Checking if the dataset is imbalanced per product_category\n",
    "g = sns.catplot(data=data[['product_category', 'isfraud']], x='isfraud', col=\"product_category\", col_wrap=4, \n",
    "                kind=\"count\", sharex=False, sharey=False)"
   ]
  },
  {
   "cell_type": "code",
   "execution_count": 11,
   "metadata": {
    "ExecuteTime": {
     "end_time": "2020-08-25T17:36:34.574504Z",
     "start_time": "2020-08-25T17:36:33.723971Z"
    }
   },
   "outputs": [
    {
     "data": {
      "image/png": "[encoded data removed]",
      "text/plain": [
       "<Figure size 1440x360 with 4 Axes>"
      ]
     },
     "metadata": {},
     "output_type": "display_data"
    }
   ],
   "source": [
    "# Checking if the dataset is imbalanced per C18\n",
    "g = sns.catplot(data=data[['C18', 'isfraud']], x='isfraud', col=\"C18\", col_wrap=4, \n",
    "                kind=\"count\", sharex=False, sharey=False)"
   ]
  },
  {
   "cell_type": "code",
   "execution_count": 12,
   "metadata": {
    "ExecuteTime": {
     "end_time": "2020-08-25T17:36:34.590526Z",
     "start_time": "2020-08-25T17:36:34.577482Z"
    }
   },
   "outputs": [],
   "source": [
    "class DroppingColumns(BaseEstimator, TransformerMixin):\n",
    "    def __init__(self, cols=[]):\n",
    "        self.cols = cols\n",
    "    def fit(self, X=None, y=None, **fit_params):\n",
    "        return self\n",
    "    def transform(self, data):\n",
    "        X = data.copy()\n",
    "        X = X.drop(self.cols,axis=1)\n",
    "        return X"
   ]
  },
  {
   "cell_type": "markdown",
   "metadata": {},
   "source": [
    "Feature Engineering"
   ]
  },
  {
   "cell_type": "code",
   "execution_count": 18,
   "metadata": {
    "ExecuteTime": {
     "end_time": "2020-08-25T17:37:57.359983Z",
     "start_time": "2020-08-25T17:37:57.342994Z"
    }
   },
   "outputs": [],
   "source": [
    "class CreateTimeFeatures(BaseEstimator, TransformerMixin):\n",
    "    def __init__(self, col='timestamp'):\n",
    "        self.col = col\n",
    "    def fit(self, X=None, y=None, **fit_params):\n",
    "        return self\n",
    "    def transform(self, data):\n",
    "        X = data.copy()\n",
    "        X[\"YEAR\"] = pd.to_datetime(X[self.col],unit='ms').dt.year\n",
    "        X[\"MONTH\"] = pd.to_datetime(X[self.col],unit='ms').dt.month\n",
    "        X[\"WEEK_DAY\"] = pd.to_datetime(X[self.col],unit='ms').dt.dayofweek\n",
    "        return X"
   ]
  },
  {
   "cell_type": "markdown",
   "metadata": {
    "ExecuteTime": {
     "end_time": "2020-08-20T14:42:17.142714Z",
     "start_time": "2020-08-20T14:42:17.122706Z"
    }
   },
   "source": [
    "Creating a Model"
   ]
  },
  {
   "cell_type": "code",
   "execution_count": 19,
   "metadata": {
    "ExecuteTime": {
     "end_time": "2020-08-25T17:38:00.308252Z",
     "start_time": "2020-08-25T17:37:58.547463Z"
    }
   },
   "outputs": [],
   "source": [
    "data = pd.read_csv('data/train.csv').set_index(\"id\")\n",
    "data = data.sort_values(by=\"timestamp\")\n",
    "X = data.drop(columns=['isfraud'])\n",
    "y = data['isfraud']"
   ]
  },
  {
   "cell_type": "code",
   "execution_count": 20,
   "metadata": {
    "ExecuteTime": {
     "end_time": "2020-08-25T17:38:00.495383Z",
     "start_time": "2020-08-25T17:38:00.405223Z"
    }
   },
   "outputs": [],
   "source": [
    "X_train, X_test, y_train, y_test = train_test_split(X, y, test_size=0.2, shuffle=False)"
   ]
  },
  {
   "cell_type": "code",
   "execution_count": 21,
   "metadata": {
    "ExecuteTime": {
     "end_time": "2020-08-25T17:38:00.603290Z",
     "start_time": "2020-08-25T17:38:00.591294Z"
    }
   },
   "outputs": [],
   "source": [
    "cols_to_drop = ['C19', 'C21']\n",
    "new_time_variables = ['YEAR', 'MONTH', 'WEEK_DAY']\n",
    "pipeline = Pipeline([(\"create_time_features\", CreateTimeFeatures()),\n",
    "                     ('onehot_encoding', OneHotEncoder(cols=new_time_variables)),\n",
    "                     ('Cs_encoding', OneHotEncoder(cols=['C15', 'C16', 'C17', 'C18', 'C20'])),\n",
    "                     ('target_encoding', TargetEncoder(cols=['product_id', 'product_department', 'product_category', 'card_id', 'user_id'], min_samples_leaf=30)),\n",
    "                     ('drop_columns', DroppingColumns(cols=cols_to_drop)),\n",
    "                     ('model', RandomForestClassifier(random_state=42))])"
   ]
  },
  {
   "cell_type": "code",
   "execution_count": 22,
   "metadata": {
    "ExecuteTime": {
     "end_time": "2020-08-25T17:43:27.251371Z",
     "start_time": "2020-08-25T17:38:00.698408Z"
    }
   },
   "outputs": [
    {
     "data": {
      "text/plain": [
       "Pipeline(memory=None,\n",
       "         steps=[('create_time_features', CreateTimeFeatures(col='timestamp')),\n",
       "                ('onehot_encoding',\n",
       "                 OneHotEncoder(cols=['YEAR', 'MONTH', 'WEEK_DAY'],\n",
       "                               drop_invariant=False, handle_missing='value',\n",
       "                               handle_unknown='value', return_df=True,\n",
       "                               use_cat_names=False, verbose=0)),\n",
       "                ('Cs_encoding',\n",
       "                 OneHotEncoder(cols=['C15', 'C16', 'C17', 'C18', 'C20'],\n",
       "                               drop_invariant=...\n",
       "                 RandomForestClassifier(bootstrap=True, ccp_alpha=0.0,\n",
       "                                        class_weight=None, criterion='gini',\n",
       "                                        max_depth=None, max_features='auto',\n",
       "                                        max_leaf_nodes=None, max_samples=None,\n",
       "                                        min_impurity_decrease=0.0,\n",
       "                                        min_impurity_split=None,\n",
       "                                        min_samples_leaf=1, min_samples_split=2,\n",
       "                                        min_weight_fraction_leaf=0.0,\n",
       "                                        n_estimators=100, n_jobs=None,\n",
       "                                        oob_score=False, random_state=42,\n",
       "                                        verbose=0, warm_start=False))],\n",
       "         verbose=False)"
      ]
     },
     "execution_count": 22,
     "metadata": {},
     "output_type": "execute_result"
    }
   ],
   "source": [
    "pipeline.fit(X_train, y_train)"
   ]
  },
  {
   "cell_type": "code",
   "execution_count": 23,
   "metadata": {
    "ExecuteTime": {
     "end_time": "2020-08-25T17:43:51.758227Z",
     "start_time": "2020-08-25T17:43:42.758824Z"
    }
   },
   "outputs": [],
   "source": [
    "y_scores = pipeline.predict_proba(X_test)[:,1]"
   ]
  },
  {
   "cell_type": "code",
   "execution_count": 24,
   "metadata": {
    "ExecuteTime": {
     "end_time": "2020-08-25T17:43:55.652818Z",
     "start_time": "2020-08-25T17:43:53.720895Z"
    }
   },
   "outputs": [
    {
     "name": "stdout",
     "output_type": "stream",
     "text": [
      "Score: 0.636\n"
     ]
    },
    {
     "data": {
      "image/png": "[encoded data removed]",
      "text/plain": [
       "<Figure size 432x288 with 1 Axes>"
      ]
     },
     "metadata": {},
     "output_type": "display_data"
    }
   ],
   "source": [
    "fpr, tpr, threshold = roc_curve(y_test, y_scores)\n",
    "roc_auc = auc(fpr, tpr)\n",
    "\n",
    "plt.title('Receiver Operating Characteristic')\n",
    "plt.plot(fpr, tpr, 'b', label = 'AUC = %0.2f' % roc_auc)\n",
    "plt.legend(loc = 'lower right')\n",
    "plt.plot([0, 1], [0, 1],'r--')\n",
    "plt.xlim([0, 1])\n",
    "plt.ylim([0, 1])\n",
    "plt.ylabel('True Positive Rate')\n",
    "plt.xlabel('False Positive Rate')\n",
    "print(\"Score: \"+ str(round(roc_auc,3)))\n",
    "plt.show()"
   ]
  }
 ],
 "metadata": {
  "kernelspec": {
   "display_name": "Python 3",
   "language": "python",
   "name": "python3"
  },
  "language_info": {
   "codemirror_mode": {
    "name": "ipython",
    "version": 3
   },
   "file_extension": ".py",
   "mimetype": "text/x-python",
   "name": "python",
   "nbconvert_exporter": "python",
   "pygments_lexer": "ipython3",
   "version": "3.8.3"
  },
  "toc": {
   "base_numbering": 1,
   "nav_menu": {},
   "number_sections": true,
   "sideBar": true,
   "skip_h1_title": false,
   "title_cell": "Table of Contents",
   "title_sidebar": "Contents",
   "toc_cell": false,
   "toc_position": {},
   "toc_section_display": true,
   "toc_window_display": false
  },
  "varInspector": {
   "cols": {
    "lenName": 16,
    "lenType": 16,
    "lenVar": 40
   },
   "kernels_config": {
    "python": {
     "delete_cmd_postfix": "",
     "delete_cmd_prefix": "del ",
     "library": "var_list.py",
     "varRefreshCmd": "print(var_dic_list())"
    },
    "r": {
     "delete_cmd_postfix": ") ",
     "delete_cmd_prefix": "rm(",
     "library": "var_list.r",
     "varRefreshCmd": "cat(var_dic_list()) "
    }
   },
   "types_to_exclude": [
    "module",
    "function",
    "builtin_function_or_method",
    "instance",
    "_Feature"
   ],
   "window_display": false
  }
 },
 "nbformat": 4,
 "nbformat_minor": 4
}
