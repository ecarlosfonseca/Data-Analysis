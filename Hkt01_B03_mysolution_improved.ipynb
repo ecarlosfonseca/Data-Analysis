{
 "cells": [
  {
   "cell_type": "code",
   "execution_count": 70,
   "metadata": {
    "ExecuteTime": {
     "end_time": "2020-09-22T16:03:57.785681Z",
     "start_time": "2020-09-22T16:03:57.775689Z"
    }
   },
   "outputs": [],
   "source": [
    "import pandas as pd\n",
    "from datetime import datetime\n",
    "\n",
    "# Viz libraries\n",
    "import matplotlib.pyplot as plt\n",
    "import seaborn as sns\n",
    "\n",
    "# Sklearn libraries\n",
    "from sklearn.pipeline import Pipeline\n",
    "from sklearn.model_selection import train_test_split\n",
    "from sklearn.impute import SimpleImputer\n",
    "from sklearn.ensemble import RandomForestClassifier\n",
    "from sklearn.metrics import confusion_matrix,roc_auc_score,roc_curve,classification_report,auc\n",
    "from sklearn.base import BaseEstimator, TransformerMixin # to create classes\n",
    "\n",
    "# Category encoders\n",
    "from category_encoders import OneHotEncoder, TargetEncoder\n",
    "\n",
    "from sklearn.utils import resample"
   ]
  },
  {
   "cell_type": "code",
   "execution_count": 62,
   "metadata": {
    "ExecuteTime": {
     "end_time": "2020-09-22T15:44:46.750974Z",
     "start_time": "2020-09-22T15:44:45.344477Z"
    }
   },
   "outputs": [
    {
     "name": "stdout",
     "output_type": "stream",
     "text": [
      "total 62M\n",
      "-rw-r--r-- 1 ZukiPC 197609 2,3M ago 12 14:41 sample_submission.csv\n",
      "-rw-r--r-- 1 ZukiPC 197609 7,8M ago 12 14:41 test.csv\n",
      "-rw-r--r-- 1 ZukiPC 197609  52M ago 12 14:41 train.csv\n"
     ]
    }
   ],
   "source": [
    "!ls -lh data"
   ]
  },
  {
   "cell_type": "code",
   "execution_count": 63,
   "metadata": {
    "ExecuteTime": {
     "end_time": "2020-09-22T15:44:48.862998Z",
     "start_time": "2020-09-22T15:44:47.608982Z"
    },
    "scrolled": false
   },
   "outputs": [
    {
     "data": {
      "text/html": [
       "<div>\n",
       "<style scoped>\n",
       "    .dataframe tbody tr th:only-of-type {\n",
       "        vertical-align: middle;\n",
       "    }\n",
       "\n",
       "    .dataframe tbody tr th {\n",
       "        vertical-align: top;\n",
       "    }\n",
       "\n",
       "    .dataframe thead th {\n",
       "        text-align: right;\n",
       "    }\n",
       "</style>\n",
       "<table border=\"1\" class=\"dataframe\">\n",
       "  <thead>\n",
       "    <tr style=\"text-align: right;\">\n",
       "      <th></th>\n",
       "      <th>timestamp</th>\n",
       "      <th>product_id</th>\n",
       "      <th>product_department</th>\n",
       "      <th>product_category</th>\n",
       "      <th>card_id</th>\n",
       "      <th>user_id</th>\n",
       "      <th>C15</th>\n",
       "      <th>C16</th>\n",
       "      <th>C17</th>\n",
       "      <th>C18</th>\n",
       "      <th>C19</th>\n",
       "      <th>C20</th>\n",
       "      <th>C21</th>\n",
       "      <th>amount</th>\n",
       "      <th>isfraud</th>\n",
       "    </tr>\n",
       "    <tr>\n",
       "      <th>id</th>\n",
       "      <th></th>\n",
       "      <th></th>\n",
       "      <th></th>\n",
       "      <th></th>\n",
       "      <th></th>\n",
       "      <th></th>\n",
       "      <th></th>\n",
       "      <th></th>\n",
       "      <th></th>\n",
       "      <th></th>\n",
       "      <th></th>\n",
       "      <th></th>\n",
       "      <th></th>\n",
       "      <th></th>\n",
       "      <th></th>\n",
       "    </tr>\n",
       "  </thead>\n",
       "  <tbody>\n",
       "    <tr>\n",
       "      <th>202</th>\n",
       "      <td>1413851368636</td>\n",
       "      <td>fa41b2d8</td>\n",
       "      <td>ef5ed6b8</td>\n",
       "      <td>50e219e0</td>\n",
       "      <td>ecad2386</td>\n",
       "      <td>bd544220</td>\n",
       "      <td>300</td>\n",
       "      <td>50</td>\n",
       "      <td>2312</td>\n",
       "      <td>0</td>\n",
       "      <td>167</td>\n",
       "      <td>100075</td>\n",
       "      <td>16</td>\n",
       "      <td>195.65</td>\n",
       "      <td>0</td>\n",
       "    </tr>\n",
       "    <tr>\n",
       "      <th>9909</th>\n",
       "      <td>1413851725946</td>\n",
       "      <td>fa41b2d8</td>\n",
       "      <td>ef5ed6b8</td>\n",
       "      <td>50e219e0</td>\n",
       "      <td>ecad2386</td>\n",
       "      <td>bd544220</td>\n",
       "      <td>300</td>\n",
       "      <td>50</td>\n",
       "      <td>2312</td>\n",
       "      <td>0</td>\n",
       "      <td>167</td>\n",
       "      <td>100075</td>\n",
       "      <td>16</td>\n",
       "      <td>195.65</td>\n",
       "      <td>0</td>\n",
       "    </tr>\n",
       "    <tr>\n",
       "      <th>22692</th>\n",
       "      <td>1413851873924</td>\n",
       "      <td>fa41b2d8</td>\n",
       "      <td>ef5ed6b8</td>\n",
       "      <td>50e219e0</td>\n",
       "      <td>ecad2386</td>\n",
       "      <td>bd544220</td>\n",
       "      <td>300</td>\n",
       "      <td>50</td>\n",
       "      <td>2312</td>\n",
       "      <td>0</td>\n",
       "      <td>167</td>\n",
       "      <td>100075</td>\n",
       "      <td>16</td>\n",
       "      <td>195.65</td>\n",
       "      <td>0</td>\n",
       "    </tr>\n",
       "    <tr>\n",
       "      <th>22938</th>\n",
       "      <td>1413851651534</td>\n",
       "      <td>fa41b2d8</td>\n",
       "      <td>ef5ed6b8</td>\n",
       "      <td>50e219e0</td>\n",
       "      <td>ecad2386</td>\n",
       "      <td>bd544220</td>\n",
       "      <td>300</td>\n",
       "      <td>50</td>\n",
       "      <td>2312</td>\n",
       "      <td>0</td>\n",
       "      <td>167</td>\n",
       "      <td>100075</td>\n",
       "      <td>16</td>\n",
       "      <td>195.65</td>\n",
       "      <td>0</td>\n",
       "    </tr>\n",
       "    <tr>\n",
       "      <th>29187</th>\n",
       "      <td>1413853025188</td>\n",
       "      <td>fa41b2d8</td>\n",
       "      <td>ef5ed6b8</td>\n",
       "      <td>50e219e0</td>\n",
       "      <td>ecad2386</td>\n",
       "      <td>bd544220</td>\n",
       "      <td>300</td>\n",
       "      <td>50</td>\n",
       "      <td>2312</td>\n",
       "      <td>0</td>\n",
       "      <td>167</td>\n",
       "      <td>100075</td>\n",
       "      <td>16</td>\n",
       "      <td>195.65</td>\n",
       "      <td>0</td>\n",
       "    </tr>\n",
       "  </tbody>\n",
       "</table>\n",
       "</div>"
      ],
      "text/plain": [
       "           timestamp product_id product_department product_category   card_id  \\\n",
       "id                                                                              \n",
       "202    1413851368636   fa41b2d8           ef5ed6b8         50e219e0  ecad2386   \n",
       "9909   1413851725946   fa41b2d8           ef5ed6b8         50e219e0  ecad2386   \n",
       "22692  1413851873924   fa41b2d8           ef5ed6b8         50e219e0  ecad2386   \n",
       "22938  1413851651534   fa41b2d8           ef5ed6b8         50e219e0  ecad2386   \n",
       "29187  1413853025188   fa41b2d8           ef5ed6b8         50e219e0  ecad2386   \n",
       "\n",
       "        user_id  C15  C16   C17  C18  C19     C20  C21  amount  isfraud  \n",
       "id                                                                       \n",
       "202    bd544220  300   50  2312    0  167  100075   16  195.65        0  \n",
       "9909   bd544220  300   50  2312    0  167  100075   16  195.65        0  \n",
       "22692  bd544220  300   50  2312    0  167  100075   16  195.65        0  \n",
       "22938  bd544220  300   50  2312    0  167  100075   16  195.65        0  \n",
       "29187  bd544220  300   50  2312    0  167  100075   16  195.65        0  "
      ]
     },
     "execution_count": 63,
     "metadata": {},
     "output_type": "execute_result"
    }
   ],
   "source": [
    "data = pd.read_csv('data/train.csv').set_index(\"id\")\n",
    "data.head()"
   ]
  },
  {
   "cell_type": "code",
   "execution_count": 64,
   "metadata": {
    "ExecuteTime": {
     "end_time": "2020-09-22T15:44:51.181059Z",
     "start_time": "2020-09-22T15:44:51.161071Z"
    }
   },
   "outputs": [
    {
     "data": {
      "text/plain": [
       "(522412, 15)"
      ]
     },
     "execution_count": 64,
     "metadata": {},
     "output_type": "execute_result"
    }
   ],
   "source": [
    "data.shape"
   ]
  },
  {
   "cell_type": "code",
   "execution_count": 65,
   "metadata": {
    "ExecuteTime": {
     "end_time": "2020-09-22T15:44:51.804628Z",
     "start_time": "2020-09-22T15:44:51.534126Z"
    },
    "scrolled": true
   },
   "outputs": [
    {
     "name": "stdout",
     "output_type": "stream",
     "text": [
      "id,timestamp,product_id,product_department,product_category,card_id,user_id,C15,C16,C17,C18,C19,C20,C21,amount\n",
      "36412270,1414635923767,c4e18dd6,85f751fd,50e219e0,7358e05e,0007ae57,320,50,2647,2,35,100148,23,191.77\n",
      "36444068,1414636094030,c4e18dd6,85f751fd,50e219e0,7358e05e,0007ae57,320,50,2647,2,35,100148,23,191.77\n",
      "37853449,1414662647887,c4e18dd6,85f751fd,50e219e0,7358e05e,0007ae57,320,50,2647,2,39,100148,23,191.77\n",
      "36396815,1414637084496,c4e18dd6,85f751fd,50e219e0,7358e05e,0007ae57,320,50,2647,2,35,100148,23,191.77\n",
      "36432507,1414634763247,c4e18dd6,85f751fd,50e219e0,7358e05e,0007ae57,320,50,2647,2,35,100148,105,191.77\n",
      "38314434,1414670233561,c4e18dd6,85f751fd,50e219e0,7358e05e,0008dcd1,320,50,2741,0,163,-1,17,191.77\n",
      "38317400,1414669531131,c4e18dd6,85f751fd,50e219e0,7358e05e,0008dcd1,320,50,2741,0,163,-1,105,191.77\n",
      "36932920,1414642524061,c4e18dd6,85f751fd,50e219e0,5adb10d9,0011cd85,320,50,2726,3,803,100200,229,191.77\n",
      "36678951,1414644584615,c4e18dd6,85f751fd,50e219e0,5adb10d9,0011cd85,320,50,2726,3,803,100200,229,191.77\n"
     ]
    }
   ],
   "source": [
    "# Check test set variables\n",
    "!head data/test.csv"
   ]
  },
  {
   "cell_type": "markdown",
   "metadata": {},
   "source": [
    "EDA"
   ]
  },
  {
   "cell_type": "code",
   "execution_count": 66,
   "metadata": {
    "ExecuteTime": {
     "end_time": "2020-09-22T15:44:54.346841Z",
     "start_time": "2020-09-22T15:44:54.072509Z"
    }
   },
   "outputs": [
    {
     "data": {
      "text/html": [
       "<div>\n",
       "<style scoped>\n",
       "    .dataframe tbody tr th:only-of-type {\n",
       "        vertical-align: middle;\n",
       "    }\n",
       "\n",
       "    .dataframe tbody tr th {\n",
       "        vertical-align: top;\n",
       "    }\n",
       "\n",
       "    .dataframe thead th {\n",
       "        text-align: right;\n",
       "    }\n",
       "</style>\n",
       "<table border=\"1\" class=\"dataframe\">\n",
       "  <thead>\n",
       "    <tr style=\"text-align: right;\">\n",
       "      <th></th>\n",
       "      <th>timestamp</th>\n",
       "      <th>product_id</th>\n",
       "      <th>product_department</th>\n",
       "      <th>product_category</th>\n",
       "      <th>card_id</th>\n",
       "      <th>user_id</th>\n",
       "      <th>C15</th>\n",
       "      <th>C16</th>\n",
       "      <th>C17</th>\n",
       "      <th>C18</th>\n",
       "      <th>C19</th>\n",
       "      <th>C20</th>\n",
       "      <th>C21</th>\n",
       "      <th>amount</th>\n",
       "      <th>isfraud</th>\n",
       "    </tr>\n",
       "    <tr>\n",
       "      <th>id</th>\n",
       "      <th></th>\n",
       "      <th></th>\n",
       "      <th></th>\n",
       "      <th></th>\n",
       "      <th></th>\n",
       "      <th></th>\n",
       "      <th></th>\n",
       "      <th></th>\n",
       "      <th></th>\n",
       "      <th></th>\n",
       "      <th></th>\n",
       "      <th></th>\n",
       "      <th></th>\n",
       "      <th></th>\n",
       "      <th></th>\n",
       "    </tr>\n",
       "  </thead>\n",
       "  <tbody>\n",
       "    <tr>\n",
       "      <th>202</th>\n",
       "      <td>1970-01-01 00:23:33.851368636</td>\n",
       "      <td>fa41b2d8</td>\n",
       "      <td>ef5ed6b8</td>\n",
       "      <td>50e219e0</td>\n",
       "      <td>ecad2386</td>\n",
       "      <td>bd544220</td>\n",
       "      <td>300</td>\n",
       "      <td>50</td>\n",
       "      <td>2312</td>\n",
       "      <td>0</td>\n",
       "      <td>167</td>\n",
       "      <td>100075</td>\n",
       "      <td>16</td>\n",
       "      <td>195.65</td>\n",
       "      <td>0</td>\n",
       "    </tr>\n",
       "    <tr>\n",
       "      <th>9909</th>\n",
       "      <td>1970-01-01 00:23:33.851725946</td>\n",
       "      <td>fa41b2d8</td>\n",
       "      <td>ef5ed6b8</td>\n",
       "      <td>50e219e0</td>\n",
       "      <td>ecad2386</td>\n",
       "      <td>bd544220</td>\n",
       "      <td>300</td>\n",
       "      <td>50</td>\n",
       "      <td>2312</td>\n",
       "      <td>0</td>\n",
       "      <td>167</td>\n",
       "      <td>100075</td>\n",
       "      <td>16</td>\n",
       "      <td>195.65</td>\n",
       "      <td>0</td>\n",
       "    </tr>\n",
       "    <tr>\n",
       "      <th>22692</th>\n",
       "      <td>1970-01-01 00:23:33.851873924</td>\n",
       "      <td>fa41b2d8</td>\n",
       "      <td>ef5ed6b8</td>\n",
       "      <td>50e219e0</td>\n",
       "      <td>ecad2386</td>\n",
       "      <td>bd544220</td>\n",
       "      <td>300</td>\n",
       "      <td>50</td>\n",
       "      <td>2312</td>\n",
       "      <td>0</td>\n",
       "      <td>167</td>\n",
       "      <td>100075</td>\n",
       "      <td>16</td>\n",
       "      <td>195.65</td>\n",
       "      <td>0</td>\n",
       "    </tr>\n",
       "    <tr>\n",
       "      <th>22938</th>\n",
       "      <td>1970-01-01 00:23:33.851651534</td>\n",
       "      <td>fa41b2d8</td>\n",
       "      <td>ef5ed6b8</td>\n",
       "      <td>50e219e0</td>\n",
       "      <td>ecad2386</td>\n",
       "      <td>bd544220</td>\n",
       "      <td>300</td>\n",
       "      <td>50</td>\n",
       "      <td>2312</td>\n",
       "      <td>0</td>\n",
       "      <td>167</td>\n",
       "      <td>100075</td>\n",
       "      <td>16</td>\n",
       "      <td>195.65</td>\n",
       "      <td>0</td>\n",
       "    </tr>\n",
       "    <tr>\n",
       "      <th>29187</th>\n",
       "      <td>1970-01-01 00:23:33.853025188</td>\n",
       "      <td>fa41b2d8</td>\n",
       "      <td>ef5ed6b8</td>\n",
       "      <td>50e219e0</td>\n",
       "      <td>ecad2386</td>\n",
       "      <td>bd544220</td>\n",
       "      <td>300</td>\n",
       "      <td>50</td>\n",
       "      <td>2312</td>\n",
       "      <td>0</td>\n",
       "      <td>167</td>\n",
       "      <td>100075</td>\n",
       "      <td>16</td>\n",
       "      <td>195.65</td>\n",
       "      <td>0</td>\n",
       "    </tr>\n",
       "  </tbody>\n",
       "</table>\n",
       "</div>"
      ],
      "text/plain": [
       "                          timestamp product_id product_department  \\\n",
       "id                                                                  \n",
       "202   1970-01-01 00:23:33.851368636   fa41b2d8           ef5ed6b8   \n",
       "9909  1970-01-01 00:23:33.851725946   fa41b2d8           ef5ed6b8   \n",
       "22692 1970-01-01 00:23:33.851873924   fa41b2d8           ef5ed6b8   \n",
       "22938 1970-01-01 00:23:33.851651534   fa41b2d8           ef5ed6b8   \n",
       "29187 1970-01-01 00:23:33.853025188   fa41b2d8           ef5ed6b8   \n",
       "\n",
       "      product_category   card_id   user_id  C15  C16   C17  C18  C19     C20  \\\n",
       "id                                                                             \n",
       "202           50e219e0  ecad2386  bd544220  300   50  2312    0  167  100075   \n",
       "9909          50e219e0  ecad2386  bd544220  300   50  2312    0  167  100075   \n",
       "22692         50e219e0  ecad2386  bd544220  300   50  2312    0  167  100075   \n",
       "22938         50e219e0  ecad2386  bd544220  300   50  2312    0  167  100075   \n",
       "29187         50e219e0  ecad2386  bd544220  300   50  2312    0  167  100075   \n",
       "\n",
       "       C21  amount  isfraud  \n",
       "id                           \n",
       "202     16  195.65        0  \n",
       "9909    16  195.65        0  \n",
       "22692   16  195.65        0  \n",
       "22938   16  195.65        0  \n",
       "29187   16  195.65        0  "
      ]
     },
     "execution_count": 66,
     "metadata": {},
     "output_type": "execute_result"
    }
   ],
   "source": [
    "data['timestamp'] = pd.to_datetime(data.timestamp, infer_datetime_format=True)\n",
    "data.head()"
   ]
  },
  {
   "cell_type": "code",
   "execution_count": 7,
   "metadata": {
    "ExecuteTime": {
     "end_time": "2020-09-22T14:58:28.601377Z",
     "start_time": "2020-09-22T14:58:27.472120Z"
    },
    "scrolled": true
   },
   "outputs": [
    {
     "data": {
      "text/html": [
       "<div>\n",
       "<style scoped>\n",
       "    .dataframe tbody tr th:only-of-type {\n",
       "        vertical-align: middle;\n",
       "    }\n",
       "\n",
       "    .dataframe tbody tr th {\n",
       "        vertical-align: top;\n",
       "    }\n",
       "\n",
       "    .dataframe thead th {\n",
       "        text-align: right;\n",
       "    }\n",
       "</style>\n",
       "<table border=\"1\" class=\"dataframe\">\n",
       "  <thead>\n",
       "    <tr style=\"text-align: right;\">\n",
       "      <th></th>\n",
       "      <th>variables</th>\n",
       "      <th>count</th>\n",
       "      <th>v_types</th>\n",
       "      <th>n_null</th>\n",
       "      <th>n_uniques</th>\n",
       "    </tr>\n",
       "  </thead>\n",
       "  <tbody>\n",
       "    <tr>\n",
       "      <th>0</th>\n",
       "      <td>timestamp</td>\n",
       "      <td>522412</td>\n",
       "      <td>int64</td>\n",
       "      <td>0</td>\n",
       "      <td>521650</td>\n",
       "    </tr>\n",
       "    <tr>\n",
       "      <th>1</th>\n",
       "      <td>product_id</td>\n",
       "      <td>522412</td>\n",
       "      <td>object</td>\n",
       "      <td>0</td>\n",
       "      <td>1959</td>\n",
       "    </tr>\n",
       "    <tr>\n",
       "      <th>2</th>\n",
       "      <td>product_department</td>\n",
       "      <td>522412</td>\n",
       "      <td>object</td>\n",
       "      <td>0</td>\n",
       "      <td>1251</td>\n",
       "    </tr>\n",
       "    <tr>\n",
       "      <th>3</th>\n",
       "      <td>product_category</td>\n",
       "      <td>522412</td>\n",
       "      <td>object</td>\n",
       "      <td>0</td>\n",
       "      <td>4</td>\n",
       "    </tr>\n",
       "    <tr>\n",
       "      <th>4</th>\n",
       "      <td>card_id</td>\n",
       "      <td>522412</td>\n",
       "      <td>object</td>\n",
       "      <td>0</td>\n",
       "      <td>1668</td>\n",
       "    </tr>\n",
       "    <tr>\n",
       "      <th>5</th>\n",
       "      <td>user_id</td>\n",
       "      <td>522412</td>\n",
       "      <td>object</td>\n",
       "      <td>0</td>\n",
       "      <td>82591</td>\n",
       "    </tr>\n",
       "    <tr>\n",
       "      <th>6</th>\n",
       "      <td>C15</td>\n",
       "      <td>522412</td>\n",
       "      <td>int64</td>\n",
       "      <td>0</td>\n",
       "      <td>8</td>\n",
       "    </tr>\n",
       "    <tr>\n",
       "      <th>7</th>\n",
       "      <td>C16</td>\n",
       "      <td>522412</td>\n",
       "      <td>int64</td>\n",
       "      <td>0</td>\n",
       "      <td>9</td>\n",
       "    </tr>\n",
       "    <tr>\n",
       "      <th>8</th>\n",
       "      <td>C17</td>\n",
       "      <td>522412</td>\n",
       "      <td>int64</td>\n",
       "      <td>0</td>\n",
       "      <td>293</td>\n",
       "    </tr>\n",
       "    <tr>\n",
       "      <th>9</th>\n",
       "      <td>C18</td>\n",
       "      <td>522412</td>\n",
       "      <td>int64</td>\n",
       "      <td>0</td>\n",
       "      <td>4</td>\n",
       "    </tr>\n",
       "    <tr>\n",
       "      <th>10</th>\n",
       "      <td>C19</td>\n",
       "      <td>522412</td>\n",
       "      <td>int64</td>\n",
       "      <td>0</td>\n",
       "      <td>56</td>\n",
       "    </tr>\n",
       "    <tr>\n",
       "      <th>11</th>\n",
       "      <td>C20</td>\n",
       "      <td>522412</td>\n",
       "      <td>int64</td>\n",
       "      <td>0</td>\n",
       "      <td>157</td>\n",
       "    </tr>\n",
       "    <tr>\n",
       "      <th>12</th>\n",
       "      <td>C21</td>\n",
       "      <td>522412</td>\n",
       "      <td>int64</td>\n",
       "      <td>0</td>\n",
       "      <td>50</td>\n",
       "    </tr>\n",
       "    <tr>\n",
       "      <th>13</th>\n",
       "      <td>amount</td>\n",
       "      <td>522412</td>\n",
       "      <td>float64</td>\n",
       "      <td>0</td>\n",
       "      <td>1187</td>\n",
       "    </tr>\n",
       "    <tr>\n",
       "      <th>14</th>\n",
       "      <td>isfraud</td>\n",
       "      <td>522412</td>\n",
       "      <td>int64</td>\n",
       "      <td>0</td>\n",
       "      <td>2</td>\n",
       "    </tr>\n",
       "  </tbody>\n",
       "</table>\n",
       "</div>"
      ],
      "text/plain": [
       "             variables   count  v_types  n_null  n_uniques\n",
       "0            timestamp  522412    int64       0     521650\n",
       "1           product_id  522412   object       0       1959\n",
       "2   product_department  522412   object       0       1251\n",
       "3     product_category  522412   object       0          4\n",
       "4              card_id  522412   object       0       1668\n",
       "5              user_id  522412   object       0      82591\n",
       "6                  C15  522412    int64       0          8\n",
       "7                  C16  522412    int64       0          9\n",
       "8                  C17  522412    int64       0        293\n",
       "9                  C18  522412    int64       0          4\n",
       "10                 C19  522412    int64       0         56\n",
       "11                 C20  522412    int64       0        157\n",
       "12                 C21  522412    int64       0         50\n",
       "13              amount  522412  float64       0       1187\n",
       "14             isfraud  522412    int64       0          2"
      ]
     },
     "execution_count": 7,
     "metadata": {},
     "output_type": "execute_result"
    }
   ],
   "source": [
    "analysis_dict = {'variables': list(data.columns.values),\n",
    "                 'count': list(data.count().values),\n",
    "                 'v_types': list(data.dtypes.values),\n",
    "                 'n_null': list(data.isnull().sum().values),\n",
    "                 'n_uniques': list(data.nunique().values)}\n",
    "analysis = pd.DataFrame(analysis_dict)\n",
    "analysis"
   ]
  },
  {
   "cell_type": "code",
   "execution_count": 8,
   "metadata": {
    "ExecuteTime": {
     "end_time": "2020-09-22T14:58:30.297622Z",
     "start_time": "2020-09-22T14:58:28.603142Z"
    }
   },
   "outputs": [
    {
     "data": {
      "image/png": "[encoded data removed]",
      "text/plain": [
       "<Figure size 864x288 with 2 Axes>"
      ]
     },
     "metadata": {
      "needs_background": "light"
     },
     "output_type": "display_data"
    }
   ],
   "source": [
    "corr_matrix = data.corr()\n",
    "lower_triangle_mask = np.triu(np.ones(corr_matrix.shape)).astype(np.bool)\n",
    "cor_mat_lower = corr_matrix.mask(lower_triangle_mask)\n",
    "\n",
    "plt.figure(figsize = (12,4))\n",
    "\n",
    "sns.heatmap(cor_mat_lower,\n",
    "            annot=True,\n",
    "            cmap='RdBu_r')\n",
    "\n",
    "plt.show()"
   ]
  },
  {
   "cell_type": "code",
   "execution_count": 9,
   "metadata": {
    "ExecuteTime": {
     "end_time": "2020-09-22T14:58:30.313592Z",
     "start_time": "2020-09-22T14:58:30.303602Z"
    }
   },
   "outputs": [],
   "source": [
    "cols_to_drop = ['C19', 'C21']"
   ]
  },
  {
   "cell_type": "code",
   "execution_count": 25,
   "metadata": {
    "ExecuteTime": {
     "end_time": "2020-09-22T15:10:35.827907Z",
     "start_time": "2020-09-22T15:10:35.232024Z"
    }
   },
   "outputs": [
    {
     "data": {
      "image/png": "[encoded data removed]",
      "text/plain": [
       "<Figure size 432x288 with 1 Axes>"
      ]
     },
     "metadata": {},
     "output_type": "display_data"
    }
   ],
   "source": [
    "# Checking if the dataset is imbalanced \n",
    "sns.set_style(\"white\")\n",
    "data[\"isfraud\"].value_counts(normalize=False).plot(kind=\"bar\")\n",
    "plt.title('isfraud Distribution')\n",
    "plt.xlabel(\"Fraudulent Transactions (No=0, Yes=1)\")\n",
    "plt.ylabel(\"Perc. of fraudulent Transactions\");"
   ]
  },
  {
   "cell_type": "code",
   "execution_count": 26,
   "metadata": {
    "ExecuteTime": {
     "end_time": "2020-09-22T15:10:39.638563Z",
     "start_time": "2020-09-22T15:10:38.506050Z"
    },
    "scrolled": true
   },
   "outputs": [
    {
     "data": {
      "image/png": "[encoded data removed]",
      "text/plain": [
       "<Figure size 1440x360 with 4 Axes>"
      ]
     },
     "metadata": {},
     "output_type": "display_data"
    }
   ],
   "source": [
    "# Checking if the dataset is imbalanced per product_category\n",
    "g = sns.catplot(data=data[['product_category', 'isfraud']], x='isfraud', col=\"product_category\", col_wrap=4, \n",
    "                kind=\"count\", sharex=False, sharey=False)"
   ]
  },
  {
   "cell_type": "code",
   "execution_count": 27,
   "metadata": {
    "ExecuteTime": {
     "end_time": "2020-09-22T15:10:41.523269Z",
     "start_time": "2020-09-22T15:10:40.633132Z"
    }
   },
   "outputs": [
    {
     "data": {
      "image/png": "[encoded data removed]",
      "text/plain": [
       "<Figure size 1440x360 with 4 Axes>"
      ]
     },
     "metadata": {},
     "output_type": "display_data"
    }
   ],
   "source": [
    "# Checking if the dataset is imbalanced per C18\n",
    "g = sns.catplot(data=data[['C18', 'isfraud']], x='isfraud', col=\"C18\", col_wrap=4, \n",
    "                kind=\"count\", sharex=False, sharey=False)"
   ]
  },
  {
   "cell_type": "code",
   "execution_count": 28,
   "metadata": {
    "ExecuteTime": {
     "end_time": "2020-09-22T15:10:42.040311Z",
     "start_time": "2020-09-22T15:10:42.025320Z"
    }
   },
   "outputs": [],
   "source": [
    "class DroppingColumns(BaseEstimator, TransformerMixin):\n",
    "    def __init__(self, cols=[]):\n",
    "        self.cols = cols\n",
    "    def fit(self, X=None, y=None, **fit_params):\n",
    "        return self\n",
    "    def transform(self, data):\n",
    "        X = data.copy()\n",
    "        X = X.drop(self.cols,axis=1)\n",
    "        return X"
   ]
  },
  {
   "cell_type": "markdown",
   "metadata": {},
   "source": [
    "Feature Engineering"
   ]
  },
  {
   "cell_type": "code",
   "execution_count": 29,
   "metadata": {
    "ExecuteTime": {
     "end_time": "2020-09-22T15:10:45.164459Z",
     "start_time": "2020-09-22T15:10:45.138475Z"
    }
   },
   "outputs": [],
   "source": [
    "class CreateTimeFeatures(BaseEstimator, TransformerMixin):\n",
    "    def __init__(self, col='timestamp'):\n",
    "        self.col = col\n",
    "    def fit(self, X=None, y=None, **fit_params):\n",
    "        return self\n",
    "    def transform(self, data):\n",
    "        X = data.copy()\n",
    "        X[\"YEAR\"] = pd.to_datetime(X[self.col],unit='ms').dt.year\n",
    "        X[\"MONTH\"] = pd.to_datetime(X[self.col],unit='ms').dt.month\n",
    "        X[\"WEEK\"] = pd.to_datetime(X[self.col],unit='ms').dt.weekofyear\n",
    "        X[\"WEEK_DAY\"] = pd.to_datetime(X[self.col],unit='ms').dt.dayofweek\n",
    "        \n",
    "        return X"
   ]
  },
  {
   "cell_type": "code",
   "execution_count": 53,
   "metadata": {
    "ExecuteTime": {
     "end_time": "2020-09-22T15:29:42.008383Z",
     "start_time": "2020-09-22T15:29:42.000387Z"
    }
   },
   "outputs": [],
   "source": [
    "class CreateNewFeatures(BaseEstimator, TransformerMixin):\n",
    "    def __init__(self):\n",
    "        pass\n",
    "    def fit(self, X=None, y=None, **fit_params):\n",
    "        return self\n",
    "    def transform(self, data):\n",
    "        X = data.copy()\n",
    "        X['NB_CARDS'] = X['user_id'].map(X.groupby(['user_id'])['card_id'].nunique().to_dict())\n",
    "        X['NB_USERS_PER_CARD'] = X['card_id'].map(X.groupby(['card_id'])['user_id'].nunique().to_dict())\n",
    "        #X[\"AVG_NB_TRAN_DAY\"] = X['user_id'].map(X.groupby(['user_id', 'WEEK_DAY'])['timestamp'].count().groupby(['user_id']).mean().to_dict())\n",
    "        #X[\"AVG_NB_TRAN_WEEK\"] = X['user_id'].map(X.groupby(['user_id', 'WEEK'])['timestamp'].count().groupby(['user_id']).mean().to_dict())\n",
    "        #X[\"AVG_NB_TRAN_MONTH\"] = X['user_id'].map(X.groupby(['user_id', 'MONTH'])['timestamp'].count().groupby(['user_id']).mean().to_dict())                                              \n",
    "        X[\"AVG_VALUE_PER_TRANS\"] = X['user_id'].map(X.groupby(['user_id'])['amount'].mean().to_dict())\n",
    "        return X"
   ]
  },
  {
   "cell_type": "markdown",
   "metadata": {
    "ExecuteTime": {
     "end_time": "2020-08-20T14:42:17.142714Z",
     "start_time": "2020-08-20T14:42:17.122706Z"
    }
   },
   "source": [
    "Creating a Model"
   ]
  },
  {
   "cell_type": "code",
   "execution_count": 76,
   "metadata": {
    "ExecuteTime": {
     "end_time": "2020-09-22T16:05:59.448613Z",
     "start_time": "2020-09-22T16:05:57.235449Z"
    }
   },
   "outputs": [],
   "source": [
    "data = pd.read_csv('data/train.csv').set_index(\"id\")\n",
    "data = data.sort_values(by=\"timestamp\")\n",
    "X = data.drop(columns=['isfraud'])\n",
    "y = data['isfraud']"
   ]
  },
  {
   "cell_type": "code",
   "execution_count": 93,
   "metadata": {
    "ExecuteTime": {
     "end_time": "2020-09-22T16:20:45.683761Z",
     "start_time": "2020-09-22T16:20:45.276129Z"
    }
   },
   "outputs": [],
   "source": [
    "df_notfraud = data[data.isfraud==0] # (467184, 15)\n",
    "df_fraud = data[data.isfraud==1] # (55228, 15)\n",
    "\n",
    "df_notfraud_downsampled = resample(df_notfraud,\n",
    "                                  replace=False,\n",
    "                                  n_samples = 261206,\n",
    "                                  random_state = 42)\n",
    "\n",
    "df_fraud_upsampled = resample(df_fraud, replace=True, n_samples = 261206, random_state = 42)\n",
    "\n",
    "df_resampled = pd.concat([df_notfraud_downsampled, df_fraud_upsampled])\n",
    "\n",
    "X = df_resampled.drop(columns=['isfraud'])\n",
    "y = df_resampled['isfraud']"
   ]
  },
  {
   "cell_type": "code",
   "execution_count": 94,
   "metadata": {
    "ExecuteTime": {
     "end_time": "2020-09-22T16:20:46.678084Z",
     "start_time": "2020-09-22T16:20:46.444496Z"
    }
   },
   "outputs": [],
   "source": [
    "X_train, X_test, y_train, y_test = train_test_split(X, y, test_size=0.2, shuffle=True, random_state=42)"
   ]
  },
  {
   "cell_type": "code",
   "execution_count": 95,
   "metadata": {
    "ExecuteTime": {
     "end_time": "2020-09-22T16:20:47.277476Z",
     "start_time": "2020-09-22T16:20:47.268480Z"
    }
   },
   "outputs": [],
   "source": [
    "cols_to_drop = ['C19', 'C21']\n",
    "#new_time_variables = ['YEAR', 'MONTH', 'WEEK', 'WEEK_DAY']\n",
    "pipeline = Pipeline([#(\"create_time_features\", CreateTimeFeatures()),\n",
    "                     ('create_new_features', CreateNewFeatures()),\n",
    "                     #('onehot_encoding', OneHotEncoder(cols=new_time_variables)),\n",
    "                     ('Cs_encoding', OneHotEncoder(cols=['C15', 'C16', 'C17', 'C18', 'C20'])),\n",
    "                     ('target_encoding', TargetEncoder(cols=['product_id', 'product_department', 'product_category', 'card_id', 'user_id'], min_samples_leaf=30)),\n",
    "                     ('drop_columns', DroppingColumns(cols=cols_to_drop)),\n",
    "                     ('model', RandomForestClassifier(random_state=42))])"
   ]
  },
  {
   "cell_type": "code",
   "execution_count": 96,
   "metadata": {
    "ExecuteTime": {
     "end_time": "2020-09-22T16:27:44.389284Z",
     "start_time": "2020-09-22T16:20:48.073493Z"
    }
   },
   "outputs": [
    {
     "data": {
      "text/plain": [
       "Pipeline(memory=None,\n",
       "         steps=[('create_new_features', CreateNewFeatures()),\n",
       "                ('Cs_encoding',\n",
       "                 OneHotEncoder(cols=['C15', 'C16', 'C17', 'C18', 'C20'],\n",
       "                               drop_invariant=False, handle_missing='value',\n",
       "                               handle_unknown='value', return_df=True,\n",
       "                               use_cat_names=False, verbose=0)),\n",
       "                ('target_encoding',\n",
       "                 TargetEncoder(cols=['product_id', 'product_department',\n",
       "                                     'product_category', 'card_...\n",
       "                 RandomForestClassifier(bootstrap=True, ccp_alpha=0.0,\n",
       "                                        class_weight=None, criterion='gini',\n",
       "                                        max_depth=None, max_features='auto',\n",
       "                                        max_leaf_nodes=None, max_samples=None,\n",
       "                                        min_impurity_decrease=0.0,\n",
       "                                        min_impurity_split=None,\n",
       "                                        min_samples_leaf=1, min_samples_split=2,\n",
       "                                        min_weight_fraction_leaf=0.0,\n",
       "                                        n_estimators=100, n_jobs=None,\n",
       "                                        oob_score=False, random_state=42,\n",
       "                                        verbose=0, warm_start=False))],\n",
       "         verbose=False)"
      ]
     },
     "execution_count": 96,
     "metadata": {},
     "output_type": "execute_result"
    }
   ],
   "source": [
    "pipeline.fit(X_train, y_train)"
   ]
  },
  {
   "cell_type": "code",
   "execution_count": 97,
   "metadata": {
    "ExecuteTime": {
     "end_time": "2020-09-22T16:28:02.394414Z",
     "start_time": "2020-09-22T16:27:50.584052Z"
    }
   },
   "outputs": [],
   "source": [
    "y_scores = pipeline.predict_proba(X_test)[:,1]"
   ]
  },
  {
   "cell_type": "code",
   "execution_count": 98,
   "metadata": {
    "ExecuteTime": {
     "end_time": "2020-09-22T16:28:08.882656Z",
     "start_time": "2020-09-22T16:28:08.109384Z"
    }
   },
   "outputs": [
    {
     "name": "stdout",
     "output_type": "stream",
     "text": [
      "Score: 0.871\n"
     ]
    },
    {
     "data": {
      "image/png": "[encoded data removed]",
      "text/plain": [
       "<Figure size 432x288 with 1 Axes>"
      ]
     },
     "metadata": {},
     "output_type": "display_data"
    }
   ],
   "source": [
    "fpr, tpr, threshold = roc_curve(y_test, y_scores)\n",
    "roc_auc = auc(fpr, tpr)\n",
    "\n",
    "plt.title('Receiver Operating Characteristic')\n",
    "plt.plot(fpr, tpr, 'b', label = 'AUC = %0.2f' % roc_auc)\n",
    "plt.legend(loc = 'lower right')\n",
    "plt.plot([0, 1], [0, 1],'r--')\n",
    "plt.xlim([0, 1])\n",
    "plt.ylim([0, 1])\n",
    "plt.ylabel('True Positive Rate')\n",
    "plt.xlabel('False Positive Rate')\n",
    "print(\"Score: \"+ str(round(roc_auc,3)))\n",
    "plt.show()"
   ]
  },
  {
   "cell_type": "code",
   "execution_count": null,
   "metadata": {},
   "outputs": [],
   "source": []
  }
 ],
 "metadata": {
  "kernelspec": {
   "display_name": "Python 3",
   "language": "python",
   "name": "python3"
  },
  "language_info": {
   "codemirror_mode": {
    "name": "ipython",
    "version": 3
   },
   "file_extension": ".py",
   "mimetype": "text/x-python",
   "name": "python",
   "nbconvert_exporter": "python",
   "pygments_lexer": "ipython3",
   "version": "3.8.3"
  },
  "toc": {
   "base_numbering": 1,
   "nav_menu": {},
   "number_sections": true,
   "sideBar": true,
   "skip_h1_title": false,
   "title_cell": "Table of Contents",
   "title_sidebar": "Contents",
   "toc_cell": false,
   "toc_position": {},
   "toc_section_display": true,
   "toc_window_display": false
  },
  "varInspector": {
   "cols": {
    "lenName": 16,
    "lenType": 16,
    "lenVar": 40
   },
   "kernels_config": {
    "python": {
     "delete_cmd_postfix": "",
     "delete_cmd_prefix": "del ",
     "library": "var_list.py",
     "varRefreshCmd": "print(var_dic_list())"
    },
    "r": {
     "delete_cmd_postfix": ") ",
     "delete_cmd_prefix": "rm(",
     "library": "var_list.r",
     "varRefreshCmd": "cat(var_dic_list()) "
    }
   },
   "types_to_exclude": [
    "module",
    "function",
    "builtin_function_or_method",
    "instance",
    "_Feature"
   ],
   "window_display": false
  }
 },
 "nbformat": 4,
 "nbformat_minor": 4
}
